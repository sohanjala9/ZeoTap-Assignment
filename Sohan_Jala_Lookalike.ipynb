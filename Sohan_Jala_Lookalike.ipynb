{
  "cells": [
    {
      "cell_type": "code",
      "execution_count": 1,
      "metadata": {
        "colab": {
          "base_uri": "https://localhost:8080/"
        },
        "id": "otKiHX8p-RbS",
        "outputId": "c70c3186-26b7-4658-8006-0852af1d046f"
      },
      "outputs": [
        {
          "name": "stdout",
          "output_type": "stream",
          "text": [
            "Lookalike.csv has been created successfully!\n"
          ]
        }
      ],
      "source": [
        "import pandas as pd\n",
        "from sklearn.preprocessing import OneHotEncoder, StandardScaler\n",
        "from sklearn.metrics.pairwise import cosine_similarity\n",
        "import numpy as np\n",
        "\n",
        "# Loading the datasets\n",
        "customers = pd.read_csv(\"Customers.csv\")\n",
        "products = pd.read_csv(\"Products.csv\")\n",
        "transactions = pd.read_csv(\"Transactions.csv\")\n",
        "\n",
        "# Merging datasets to create a unified view\n",
        "transactions = transactions.merge(customers, on=\"CustomerID\", how=\"left\")\n",
        "transactions = transactions.merge(products, on=\"ProductID\", how=\"left\")\n",
        "\n",
        "# Aggregating transaction data to form customer profiles\n",
        "customer_profiles = transactions.groupby(\"CustomerID\").agg(\n",
        "    {\n",
        "        \"TotalValue\": \"sum\",  # Total spending\n",
        "        \"Quantity\": \"sum\",  # Total items purchased\n",
        "        \"Category\": lambda x: list(x),  # List of purchased categories\n",
        "        \"Region\": \"first\",  # Customer region\n",
        "    }\n",
        ").reset_index()\n",
        "\n",
        "# One-hot encode categorical features\n",
        "encoder = OneHotEncoder(sparse_output=False)  # Updated parameter\n",
        "region_encoded = encoder.fit_transform(customer_profiles[[\"Region\"]])\n",
        "\n",
        "# One-hot encode product categories\n",
        "category_encoded = pd.get_dummies(\n",
        "    customer_profiles[\"Category\"].apply(lambda x: \",\".join(x)).str.get_dummies(sep=\",\")\n",
        ")\n",
        "\n",
        "# Combine all features\n",
        "features = pd.concat(\n",
        "    [\n",
        "        customer_profiles[[\"TotalValue\", \"Quantity\"]],\n",
        "        pd.DataFrame(region_encoded, columns=encoder.get_feature_names_out([\"Region\"])),\n",
        "        category_encoded,\n",
        "    ],\n",
        "    axis=1,\n",
        ")\n",
        "\n",
        "# Normalize numerical features\n",
        "scaler = StandardScaler()\n",
        "features[[\"TotalValue\", \"Quantity\"]] = scaler.fit_transform(\n",
        "    features[[\"TotalValue\", \"Quantity\"]]\n",
        ")\n",
        "\n",
        "# Compute similarity matrix\n",
        "similarity_matrix = cosine_similarity(features)\n",
        "\n",
        "# Find the top 3 similar customers for the first 20 customers\n",
        "top_customers = customer_profiles[\"CustomerID\"][:20]\n",
        "lookalike_map = {}\n",
        "\n",
        "for idx, cust_id in enumerate(top_customers):\n",
        "    similar_indices = np.argsort(similarity_matrix[idx])[::-1][1:4]\n",
        "    similar_customers = customer_profiles.iloc[similar_indices][\"CustomerID\"].values\n",
        "    similarity_scores = similarity_matrix[idx][similar_indices]\n",
        "    lookalike_map[cust_id] = list(zip(similar_customers, similarity_scores))\n",
        "\n",
        "# Saving the results to the file - Lookalike.csv\n",
        "lookalike_df = pd.DataFrame(\n",
        "    {\n",
        "        \"CustomerID\": list(lookalike_map.keys()),\n",
        "        \"Lookalikes\": [\n",
        "            [{\"CustomerID\": cid, \"Score\": score} for cid, score in value]\n",
        "            for value in lookalike_map.values()\n",
        "        ],\n",
        "    }\n",
        ")\n",
        "lookalike_df.to_csv(\"Lookalike.csv\", index=False)\n",
        "\n",
        "print(\"Lookalike.csv has been created successfully!\")\n"
      ]
    }
  ],
  "metadata": {
    "accelerator": "GPU",
    "colab": {
      "gpuType": "T4",
      "provenance": []
    },
    "kernelspec": {
      "display_name": "Python 3",
      "name": "python3"
    },
    "language_info": {
      "name": "python"
    }
  },
  "nbformat": 4,
  "nbformat_minor": 0
}
